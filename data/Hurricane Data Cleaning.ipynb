{
 "cells": [
  {
   "cell_type": "markdown",
   "metadata": {},
   "source": [
    "# Hurricane Data Cleaning\n",
    "by David Nguyen - github: @david-kishi"
   ]
  },
  {
   "cell_type": "markdown",
   "metadata": {},
   "source": [
    "### Imports"
   ]
  },
  {
   "cell_type": "code",
   "execution_count": 1,
   "metadata": {},
   "outputs": [],
   "source": [
    "import pandas as pd"
   ]
  },
  {
   "cell_type": "markdown",
   "metadata": {},
   "source": [
    "### Declarations"
   ]
  },
  {
   "cell_type": "code",
   "execution_count": 2,
   "metadata": {},
   "outputs": [],
   "source": [
    "hurricane_path = 'bq-results-20200106-205330-dpcbw0ewpjpb.csv'"
   ]
  },
  {
   "cell_type": "markdown",
   "metadata": {},
   "source": [
    "### Create dataframe from hurricane data csv"
   ]
  },
  {
   "cell_type": "code",
   "execution_count": 3,
   "metadata": {
    "scrolled": false
   },
   "outputs": [
    {
     "data": {
      "text/html": [
       "<div>\n",
       "<style scoped>\n",
       "    .dataframe tbody tr th:only-of-type {\n",
       "        vertical-align: middle;\n",
       "    }\n",
       "\n",
       "    .dataframe tbody tr th {\n",
       "        vertical-align: top;\n",
       "    }\n",
       "\n",
       "    .dataframe thead th {\n",
       "        text-align: right;\n",
       "    }\n",
       "</style>\n",
       "<table border=\"1\" class=\"dataframe\">\n",
       "  <thead>\n",
       "    <tr style=\"text-align: right;\">\n",
       "      <th></th>\n",
       "      <th>season</th>\n",
       "      <th>basin</th>\n",
       "      <th>subbasin</th>\n",
       "      <th>name</th>\n",
       "      <th>iso_time</th>\n",
       "      <th>nature</th>\n",
       "      <th>latitude</th>\n",
       "      <th>longitude</th>\n",
       "      <th>usa_wind</th>\n",
       "      <th>usa_pressure</th>\n",
       "    </tr>\n",
       "  </thead>\n",
       "  <tbody>\n",
       "    <tr>\n",
       "      <td>0</td>\n",
       "      <td>2018</td>\n",
       "      <td>NaN</td>\n",
       "      <td>NaN</td>\n",
       "      <td>LESLIE</td>\n",
       "      <td>2018-09-26 12:00:00 UTC</td>\n",
       "      <td>NR</td>\n",
       "      <td>33.7468</td>\n",
       "      <td>-40.0305</td>\n",
       "      <td>57.0</td>\n",
       "      <td>986.0</td>\n",
       "    </tr>\n",
       "    <tr>\n",
       "      <td>1</td>\n",
       "      <td>2018</td>\n",
       "      <td>EP</td>\n",
       "      <td>MM</td>\n",
       "      <td>XAVIER</td>\n",
       "      <td>2018-11-06 06:00:00 UTC</td>\n",
       "      <td>NR</td>\n",
       "      <td>18.9371</td>\n",
       "      <td>-107.8320</td>\n",
       "      <td>38.0</td>\n",
       "      <td>1005.0</td>\n",
       "    </tr>\n",
       "    <tr>\n",
       "      <td>2</td>\n",
       "      <td>2018</td>\n",
       "      <td>EP</td>\n",
       "      <td>CP</td>\n",
       "      <td>OLIVIA</td>\n",
       "      <td>2018-09-14 06:00:00 UTC</td>\n",
       "      <td>NR</td>\n",
       "      <td>18.9405</td>\n",
       "      <td>-164.6390</td>\n",
       "      <td>29.0</td>\n",
       "      <td>1008.0</td>\n",
       "    </tr>\n",
       "    <tr>\n",
       "      <td>3</td>\n",
       "      <td>2018</td>\n",
       "      <td>NaN</td>\n",
       "      <td>NaN</td>\n",
       "      <td>GORDON</td>\n",
       "      <td>2018-09-06 06:00:00 UTC</td>\n",
       "      <td>NR</td>\n",
       "      <td>33.5131</td>\n",
       "      <td>-90.9543</td>\n",
       "      <td>28.0</td>\n",
       "      <td>1013.0</td>\n",
       "    </tr>\n",
       "    <tr>\n",
       "      <td>4</td>\n",
       "      <td>2018</td>\n",
       "      <td>NaN</td>\n",
       "      <td>NaN</td>\n",
       "      <td>GORDON</td>\n",
       "      <td>2018-09-06 18:00:00 UTC</td>\n",
       "      <td>NR</td>\n",
       "      <td>34.4372</td>\n",
       "      <td>-91.6335</td>\n",
       "      <td>32.0</td>\n",
       "      <td>1013.0</td>\n",
       "    </tr>\n",
       "  </tbody>\n",
       "</table>\n",
       "</div>"
      ],
      "text/plain": [
       "   season basin subbasin    name                 iso_time nature  latitude  \\\n",
       "0    2018   NaN      NaN  LESLIE  2018-09-26 12:00:00 UTC     NR   33.7468   \n",
       "1    2018    EP       MM  XAVIER  2018-11-06 06:00:00 UTC     NR   18.9371   \n",
       "2    2018    EP       CP  OLIVIA  2018-09-14 06:00:00 UTC     NR   18.9405   \n",
       "3    2018   NaN      NaN  GORDON  2018-09-06 06:00:00 UTC     NR   33.5131   \n",
       "4    2018   NaN      NaN  GORDON  2018-09-06 18:00:00 UTC     NR   34.4372   \n",
       "\n",
       "   longitude  usa_wind  usa_pressure  \n",
       "0   -40.0305      57.0         986.0  \n",
       "1  -107.8320      38.0        1005.0  \n",
       "2  -164.6390      29.0        1008.0  \n",
       "3   -90.9543      28.0        1013.0  \n",
       "4   -91.6335      32.0        1013.0  "
      ]
     },
     "execution_count": 3,
     "metadata": {},
     "output_type": "execute_result"
    }
   ],
   "source": [
    "hurricane_df = pd.read_csv(hurricane_path, low_memory=False)\n",
    "hurricane_df.head()"
   ]
  },
  {
   "cell_type": "code",
   "execution_count": 4,
   "metadata": {
    "scrolled": true
   },
   "outputs": [
    {
     "name": "stdout",
     "output_type": "stream",
     "text": [
      "<class 'pandas.core.frame.DataFrame'>\n",
      "RangeIndex: 176211 entries, 0 to 176210\n",
      "Data columns (total 10 columns):\n",
      "season          176211 non-null int64\n",
      "basin           57928 non-null object\n",
      "subbasin        86212 non-null object\n",
      "name            176211 non-null object\n",
      "iso_time        176211 non-null object\n",
      "nature          176211 non-null object\n",
      "latitude        176211 non-null float64\n",
      "longitude       176211 non-null float64\n",
      "usa_wind        154825 non-null float64\n",
      "usa_pressure    76971 non-null float64\n",
      "dtypes: float64(4), int64(1), object(5)\n",
      "memory usage: 13.4+ MB\n"
     ]
    }
   ],
   "source": [
    "hurricane_df.info(verbose=True)"
   ]
  },
  {
   "cell_type": "code",
   "execution_count": 5,
   "metadata": {},
   "outputs": [
    {
     "data": {
      "text/plain": [
       "118283"
      ]
     },
     "execution_count": 5,
     "metadata": {},
     "output_type": "execute_result"
    }
   ],
   "source": [
    "hurricane_df.basin.isna().sum()"
   ]
  },
  {
   "cell_type": "code",
   "execution_count": 6,
   "metadata": {},
   "outputs": [
    {
     "data": {
      "text/plain": [
       "21386"
      ]
     },
     "execution_count": 6,
     "metadata": {},
     "output_type": "execute_result"
    }
   ],
   "source": [
    "hurricane_df.usa_wind.isna().sum()"
   ]
  },
  {
   "cell_type": "markdown",
   "metadata": {},
   "source": [
    "### Get rows with basin defined within North American waters"
   ]
  },
  {
   "cell_type": "code",
   "execution_count": 7,
   "metadata": {},
   "outputs": [
    {
     "data": {
      "text/plain": [
       "season          57928\n",
       "basin           57928\n",
       "subbasin        57928\n",
       "name            57928\n",
       "iso_time        57928\n",
       "nature          57928\n",
       "latitude        57928\n",
       "longitude       57928\n",
       "usa_wind        57095\n",
       "usa_pressure    30937\n",
       "dtype: int64"
      ]
     },
     "execution_count": 7,
     "metadata": {},
     "output_type": "execute_result"
    }
   ],
   "source": [
    "# BigQuery still included nulls. Let's get rid of those by just selecting the basin we need.\n",
    "hurricane_clean = hurricane_df.loc[(hurricane_df.basin == 'NA') | (hurricane_df.basin == 'EP')]\n",
    "hurricane_clean.count()"
   ]
  },
  {
   "cell_type": "code",
   "execution_count": 8,
   "metadata": {},
   "outputs": [
    {
     "data": {
      "text/html": [
       "<div>\n",
       "<style scoped>\n",
       "    .dataframe tbody tr th:only-of-type {\n",
       "        vertical-align: middle;\n",
       "    }\n",
       "\n",
       "    .dataframe tbody tr th {\n",
       "        vertical-align: top;\n",
       "    }\n",
       "\n",
       "    .dataframe thead th {\n",
       "        text-align: right;\n",
       "    }\n",
       "</style>\n",
       "<table border=\"1\" class=\"dataframe\">\n",
       "  <thead>\n",
       "    <tr style=\"text-align: right;\">\n",
       "      <th></th>\n",
       "      <th>index</th>\n",
       "      <th>season</th>\n",
       "      <th>basin</th>\n",
       "      <th>subbasin</th>\n",
       "      <th>name</th>\n",
       "      <th>iso_time</th>\n",
       "      <th>nature</th>\n",
       "      <th>latitude</th>\n",
       "      <th>longitude</th>\n",
       "      <th>usa_wind</th>\n",
       "      <th>usa_pressure</th>\n",
       "    </tr>\n",
       "  </thead>\n",
       "  <tbody>\n",
       "    <tr>\n",
       "      <td>0</td>\n",
       "      <td>1</td>\n",
       "      <td>2018</td>\n",
       "      <td>EP</td>\n",
       "      <td>MM</td>\n",
       "      <td>XAVIER</td>\n",
       "      <td>2018-11-06 06:00:00 UTC</td>\n",
       "      <td>NR</td>\n",
       "      <td>18.9371</td>\n",
       "      <td>-107.832</td>\n",
       "      <td>38.0</td>\n",
       "      <td>1005.0</td>\n",
       "    </tr>\n",
       "    <tr>\n",
       "      <td>1</td>\n",
       "      <td>2</td>\n",
       "      <td>2018</td>\n",
       "      <td>EP</td>\n",
       "      <td>CP</td>\n",
       "      <td>OLIVIA</td>\n",
       "      <td>2018-09-14 06:00:00 UTC</td>\n",
       "      <td>NR</td>\n",
       "      <td>18.9405</td>\n",
       "      <td>-164.639</td>\n",
       "      <td>29.0</td>\n",
       "      <td>1008.0</td>\n",
       "    </tr>\n",
       "    <tr>\n",
       "      <td>2</td>\n",
       "      <td>5</td>\n",
       "      <td>2018</td>\n",
       "      <td>EP</td>\n",
       "      <td>CP</td>\n",
       "      <td>OLIVIA</td>\n",
       "      <td>2018-09-14 12:00:00 UTC</td>\n",
       "      <td>NR</td>\n",
       "      <td>18.8559</td>\n",
       "      <td>-165.699</td>\n",
       "      <td>29.0</td>\n",
       "      <td>1008.0</td>\n",
       "    </tr>\n",
       "    <tr>\n",
       "      <td>3</td>\n",
       "      <td>11</td>\n",
       "      <td>1966</td>\n",
       "      <td>EP</td>\n",
       "      <td>CP</td>\n",
       "      <td>KATHY</td>\n",
       "      <td>1966-10-20 06:00:00 UTC</td>\n",
       "      <td>TS</td>\n",
       "      <td>44.6143</td>\n",
       "      <td>180.000</td>\n",
       "      <td>55.0</td>\n",
       "      <td>NaN</td>\n",
       "    </tr>\n",
       "    <tr>\n",
       "      <td>4</td>\n",
       "      <td>12</td>\n",
       "      <td>1992</td>\n",
       "      <td>EP</td>\n",
       "      <td>CP</td>\n",
       "      <td>DAN</td>\n",
       "      <td>1992-10-25 06:00:00 UTC</td>\n",
       "      <td>TS</td>\n",
       "      <td>11.6714</td>\n",
       "      <td>180.229</td>\n",
       "      <td>30.0</td>\n",
       "      <td>NaN</td>\n",
       "    </tr>\n",
       "    <tr>\n",
       "      <td>...</td>\n",
       "      <td>...</td>\n",
       "      <td>...</td>\n",
       "      <td>...</td>\n",
       "      <td>...</td>\n",
       "      <td>...</td>\n",
       "      <td>...</td>\n",
       "      <td>...</td>\n",
       "      <td>...</td>\n",
       "      <td>...</td>\n",
       "      <td>...</td>\n",
       "      <td>...</td>\n",
       "    </tr>\n",
       "    <tr>\n",
       "      <td>57090</td>\n",
       "      <td>175861</td>\n",
       "      <td>2015</td>\n",
       "      <td>EP</td>\n",
       "      <td>MM</td>\n",
       "      <td>ENRIQUE</td>\n",
       "      <td>2015-07-15 12:00:00 UTC</td>\n",
       "      <td>TS</td>\n",
       "      <td>18.8000</td>\n",
       "      <td>-132.600</td>\n",
       "      <td>40.0</td>\n",
       "      <td>1003.0</td>\n",
       "    </tr>\n",
       "    <tr>\n",
       "      <td>57091</td>\n",
       "      <td>175862</td>\n",
       "      <td>2001</td>\n",
       "      <td>EP</td>\n",
       "      <td>MM</td>\n",
       "      <td>HENRIETTE</td>\n",
       "      <td>2001-09-05 06:00:00 UTC</td>\n",
       "      <td>TS</td>\n",
       "      <td>17.9000</td>\n",
       "      <td>-112.900</td>\n",
       "      <td>35.0</td>\n",
       "      <td>1005.0</td>\n",
       "    </tr>\n",
       "    <tr>\n",
       "      <td>57092</td>\n",
       "      <td>175874</td>\n",
       "      <td>2009</td>\n",
       "      <td>EP</td>\n",
       "      <td>MM</td>\n",
       "      <td>LINDA</td>\n",
       "      <td>2009-09-11 18:00:00 UTC</td>\n",
       "      <td>TS</td>\n",
       "      <td>20.5273</td>\n",
       "      <td>-131.173</td>\n",
       "      <td>35.0</td>\n",
       "      <td>1005.0</td>\n",
       "    </tr>\n",
       "    <tr>\n",
       "      <td>57093</td>\n",
       "      <td>175879</td>\n",
       "      <td>2014</td>\n",
       "      <td>EP</td>\n",
       "      <td>CP</td>\n",
       "      <td>ANA</td>\n",
       "      <td>2014-10-23 18:00:00 UTC</td>\n",
       "      <td>TS</td>\n",
       "      <td>26.7000</td>\n",
       "      <td>-169.500</td>\n",
       "      <td>45.0</td>\n",
       "      <td>999.0</td>\n",
       "    </tr>\n",
       "    <tr>\n",
       "      <td>57094</td>\n",
       "      <td>175880</td>\n",
       "      <td>2015</td>\n",
       "      <td>EP</td>\n",
       "      <td>MM</td>\n",
       "      <td>CARLOS</td>\n",
       "      <td>2015-06-15 00:00:00 UTC</td>\n",
       "      <td>TS</td>\n",
       "      <td>16.6000</td>\n",
       "      <td>-101.200</td>\n",
       "      <td>60.0</td>\n",
       "      <td>993.0</td>\n",
       "    </tr>\n",
       "  </tbody>\n",
       "</table>\n",
       "<p>57095 rows × 11 columns</p>\n",
       "</div>"
      ],
      "text/plain": [
       "        index  season basin subbasin       name                 iso_time  \\\n",
       "0           1    2018    EP       MM     XAVIER  2018-11-06 06:00:00 UTC   \n",
       "1           2    2018    EP       CP     OLIVIA  2018-09-14 06:00:00 UTC   \n",
       "2           5    2018    EP       CP     OLIVIA  2018-09-14 12:00:00 UTC   \n",
       "3          11    1966    EP       CP      KATHY  1966-10-20 06:00:00 UTC   \n",
       "4          12    1992    EP       CP        DAN  1992-10-25 06:00:00 UTC   \n",
       "...       ...     ...   ...      ...        ...                      ...   \n",
       "57090  175861    2015    EP       MM    ENRIQUE  2015-07-15 12:00:00 UTC   \n",
       "57091  175862    2001    EP       MM  HENRIETTE  2001-09-05 06:00:00 UTC   \n",
       "57092  175874    2009    EP       MM      LINDA  2009-09-11 18:00:00 UTC   \n",
       "57093  175879    2014    EP       CP        ANA  2014-10-23 18:00:00 UTC   \n",
       "57094  175880    2015    EP       MM     CARLOS  2015-06-15 00:00:00 UTC   \n",
       "\n",
       "      nature  latitude  longitude  usa_wind  usa_pressure  \n",
       "0         NR   18.9371   -107.832      38.0        1005.0  \n",
       "1         NR   18.9405   -164.639      29.0        1008.0  \n",
       "2         NR   18.8559   -165.699      29.0        1008.0  \n",
       "3         TS   44.6143    180.000      55.0           NaN  \n",
       "4         TS   11.6714    180.229      30.0           NaN  \n",
       "...      ...       ...        ...       ...           ...  \n",
       "57090     TS   18.8000   -132.600      40.0        1003.0  \n",
       "57091     TS   17.9000   -112.900      35.0        1005.0  \n",
       "57092     TS   20.5273   -131.173      35.0        1005.0  \n",
       "57093     TS   26.7000   -169.500      45.0         999.0  \n",
       "57094     TS   16.6000   -101.200      60.0         993.0  \n",
       "\n",
       "[57095 rows x 11 columns]"
      ]
     },
     "execution_count": 8,
     "metadata": {},
     "output_type": "execute_result"
    }
   ],
   "source": [
    "hurricane_clean = hurricane_clean.loc[hurricane_clean.usa_wind.notnull()].reset_index()\n",
    "hurricane_clean"
   ]
  },
  {
   "cell_type": "code",
   "execution_count": 9,
   "metadata": {},
   "outputs": [
    {
     "data": {
      "text/plain": [
       "index           57095\n",
       "season          57095\n",
       "basin           57095\n",
       "subbasin        57095\n",
       "name            57095\n",
       "iso_time        57095\n",
       "nature          57095\n",
       "latitude        57095\n",
       "longitude       57095\n",
       "usa_wind        57095\n",
       "usa_pressure    30937\n",
       "dtype: int64"
      ]
     },
     "execution_count": 9,
     "metadata": {},
     "output_type": "execute_result"
    }
   ],
   "source": [
    "hurricane_clean.count()"
   ]
  },
  {
   "cell_type": "markdown",
   "metadata": {},
   "source": [
    "### Output cleaned data CSV"
   ]
  },
  {
   "cell_type": "code",
   "execution_count": 10,
   "metadata": {},
   "outputs": [],
   "source": [
    "hurricane_clean.to_csv('hurricane_cleaned_df.csv')"
   ]
  }
 ],
 "metadata": {
  "kernelspec": {
   "display_name": "Python 3",
   "language": "python",
   "name": "python3"
  },
  "language_info": {
   "codemirror_mode": {
    "name": "ipython",
    "version": 3
   },
   "file_extension": ".py",
   "mimetype": "text/x-python",
   "name": "python",
   "nbconvert_exporter": "python",
   "pygments_lexer": "ipython3",
   "version": "3.7.4"
  }
 },
 "nbformat": 4,
 "nbformat_minor": 2
}
